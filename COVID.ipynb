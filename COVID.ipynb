{
 "cells": [
  {
   "cell_type": "code",
   "execution_count": 16,
   "id": "38bf5f22",
   "metadata": {},
   "outputs": [],
   "source": [
    "import pandas as pd\n",
    "import numpy as np\n",
    "import matplotlib.pyplot as plt\n",
    "import seaborn as sns\n",
    "import warnings\n",
    "warnings.filterwarnings(\"ignore\")"
   ]
  },
  {
   "cell_type": "code",
   "execution_count": 2,
   "id": "e7c1ce01",
   "metadata": {},
   "outputs": [
    {
     "name": "stderr",
     "output_type": "stream",
     "text": [
      "<>:1: SyntaxWarning: invalid escape sequence '\\R'\n",
      "<>:1: SyntaxWarning: invalid escape sequence '\\R'\n",
      "C:\\Users\\Hp\\AppData\\Local\\Temp\\ipykernel_25516\\209509492.py:1: SyntaxWarning: invalid escape sequence '\\R'\n",
      "  df = pd.read_csv(\"D:\\RDSC-07-30-Update\\RDSC-07-30-Update\\Docs_needed\\covid-19-testing-all-observations.csv\")\n"
     ]
    }
   ],
   "source": [
    "df = pd.read_csv(\"D:\\RDSC-07-30-Update\\RDSC-07-30-Update\\Docs_needed\\covid-19-testing-all-observations.csv\")"
   ]
  },
  {
   "cell_type": "code",
   "execution_count": 4,
   "id": "289b9d3c",
   "metadata": {},
   "outputs": [
    {
     "data": {
      "text/html": [
       "<div>\n",
       "<style scoped>\n",
       "    .dataframe tbody tr th:only-of-type {\n",
       "        vertical-align: middle;\n",
       "    }\n",
       "\n",
       "    .dataframe tbody tr th {\n",
       "        vertical-align: top;\n",
       "    }\n",
       "\n",
       "    .dataframe thead th {\n",
       "        text-align: right;\n",
       "    }\n",
       "</style>\n",
       "<table border=\"1\" class=\"dataframe\">\n",
       "  <thead>\n",
       "    <tr style=\"text-align: right;\">\n",
       "      <th></th>\n",
       "      <th>Unnamed: 0</th>\n",
       "      <th>entity</th>\n",
       "      <th>iso_code</th>\n",
       "      <th>date</th>\n",
       "      <th>source_url</th>\n",
       "      <th>source_label</th>\n",
       "      <th>notes</th>\n",
       "      <th>daily_change_in_cumulative_total</th>\n",
       "      <th>cumulative_total</th>\n",
       "      <th>cumulative_total_per_thousand</th>\n",
       "      <th>daily_change_in_cumulative_total_per_thousand</th>\n",
       "      <th>7_day_smoothed_daily_change</th>\n",
       "      <th>7_day_smoothed_daily_change_per_thousand</th>\n",
       "    </tr>\n",
       "  </thead>\n",
       "  <tbody>\n",
       "    <tr>\n",
       "      <th>0</th>\n",
       "      <td>0</td>\n",
       "      <td>Argentina - people tested</td>\n",
       "      <td>ARG</td>\n",
       "      <td>2020-02-11</td>\n",
       "      <td>https://datos.gob.ar/dataset/salud-covid-19-ca...</td>\n",
       "      <td>Government of Argentina</td>\n",
       "      <td>NaN</td>\n",
       "      <td>2.0</td>\n",
       "      <td>2.0</td>\n",
       "      <td>0.0</td>\n",
       "      <td>0.0</td>\n",
       "      <td>NaN</td>\n",
       "      <td>NaN</td>\n",
       "    </tr>\n",
       "    <tr>\n",
       "      <th>1</th>\n",
       "      <td>1</td>\n",
       "      <td>Argentina - people tested</td>\n",
       "      <td>ARG</td>\n",
       "      <td>2020-02-12</td>\n",
       "      <td>NaN</td>\n",
       "      <td>NaN</td>\n",
       "      <td>NaN</td>\n",
       "      <td>NaN</td>\n",
       "      <td>NaN</td>\n",
       "      <td>NaN</td>\n",
       "      <td>NaN</td>\n",
       "      <td>NaN</td>\n",
       "      <td>NaN</td>\n",
       "    </tr>\n",
       "    <tr>\n",
       "      <th>2</th>\n",
       "      <td>2</td>\n",
       "      <td>Argentina - people tested</td>\n",
       "      <td>ARG</td>\n",
       "      <td>2020-02-13</td>\n",
       "      <td>NaN</td>\n",
       "      <td>NaN</td>\n",
       "      <td>NaN</td>\n",
       "      <td>NaN</td>\n",
       "      <td>NaN</td>\n",
       "      <td>NaN</td>\n",
       "      <td>NaN</td>\n",
       "      <td>NaN</td>\n",
       "      <td>NaN</td>\n",
       "    </tr>\n",
       "    <tr>\n",
       "      <th>3</th>\n",
       "      <td>3</td>\n",
       "      <td>Argentina - people tested</td>\n",
       "      <td>ARG</td>\n",
       "      <td>2020-02-14</td>\n",
       "      <td>NaN</td>\n",
       "      <td>NaN</td>\n",
       "      <td>NaN</td>\n",
       "      <td>NaN</td>\n",
       "      <td>NaN</td>\n",
       "      <td>NaN</td>\n",
       "      <td>NaN</td>\n",
       "      <td>NaN</td>\n",
       "      <td>NaN</td>\n",
       "    </tr>\n",
       "    <tr>\n",
       "      <th>4</th>\n",
       "      <td>4</td>\n",
       "      <td>Argentina - people tested</td>\n",
       "      <td>ARG</td>\n",
       "      <td>2020-02-15</td>\n",
       "      <td>NaN</td>\n",
       "      <td>NaN</td>\n",
       "      <td>NaN</td>\n",
       "      <td>NaN</td>\n",
       "      <td>NaN</td>\n",
       "      <td>NaN</td>\n",
       "      <td>NaN</td>\n",
       "      <td>NaN</td>\n",
       "      <td>NaN</td>\n",
       "    </tr>\n",
       "  </tbody>\n",
       "</table>\n",
       "</div>"
      ],
      "text/plain": [
       "   Unnamed: 0                     entity iso_code        date  \\\n",
       "0           0  Argentina - people tested      ARG  2020-02-11   \n",
       "1           1  Argentina - people tested      ARG  2020-02-12   \n",
       "2           2  Argentina - people tested      ARG  2020-02-13   \n",
       "3           3  Argentina - people tested      ARG  2020-02-14   \n",
       "4           4  Argentina - people tested      ARG  2020-02-15   \n",
       "\n",
       "                                          source_url             source_label  \\\n",
       "0  https://datos.gob.ar/dataset/salud-covid-19-ca...  Government of Argentina   \n",
       "1                                                NaN                      NaN   \n",
       "2                                                NaN                      NaN   \n",
       "3                                                NaN                      NaN   \n",
       "4                                                NaN                      NaN   \n",
       "\n",
       "  notes  daily_change_in_cumulative_total  cumulative_total  \\\n",
       "0   NaN                               2.0               2.0   \n",
       "1   NaN                               NaN               NaN   \n",
       "2   NaN                               NaN               NaN   \n",
       "3   NaN                               NaN               NaN   \n",
       "4   NaN                               NaN               NaN   \n",
       "\n",
       "   cumulative_total_per_thousand  \\\n",
       "0                            0.0   \n",
       "1                            NaN   \n",
       "2                            NaN   \n",
       "3                            NaN   \n",
       "4                            NaN   \n",
       "\n",
       "   daily_change_in_cumulative_total_per_thousand  7_day_smoothed_daily_change  \\\n",
       "0                                            0.0                          NaN   \n",
       "1                                            NaN                          NaN   \n",
       "2                                            NaN                          NaN   \n",
       "3                                            NaN                          NaN   \n",
       "4                                            NaN                          NaN   \n",
       "\n",
       "   7_day_smoothed_daily_change_per_thousand  \n",
       "0                                       NaN  \n",
       "1                                       NaN  \n",
       "2                                       NaN  \n",
       "3                                       NaN  \n",
       "4                                       NaN  "
      ]
     },
     "execution_count": 4,
     "metadata": {},
     "output_type": "execute_result"
    }
   ],
   "source": [
    "df.head()"
   ]
  },
  {
   "cell_type": "code",
   "execution_count": 7,
   "id": "256dcffe",
   "metadata": {},
   "outputs": [],
   "source": [
    "# Step 1: Clean and transform Dataset 1 (covid-19-testing-all-observations.csv)\n",
    "\n",
    "# Convert 'date' column to datetime\n",
    "df['date'] = pd.to_datetime(df['date'], errors='coerce')\n",
    "\n"
   ]
  },
  {
   "cell_type": "code",
   "execution_count": 8,
   "id": "960f9521",
   "metadata": {},
   "outputs": [],
   "source": [
    "# Create new time-based columns\n",
    "df['year'] = df['date'].dt.year\n",
    "df['month'] = df['date'].dt.month   \n",
    "df['week'] = df['date'].dt.isocalendar().week\n",
    "df['day_of_week']= df['date'].dt.day_name()"
   ]
  },
  {
   "cell_type": "code",
   "execution_count": 10,
   "id": "9082e9e0",
   "metadata": {},
   "outputs": [
    {
     "data": {
      "text/html": [
       "<div>\n",
       "<style scoped>\n",
       "    .dataframe tbody tr th:only-of-type {\n",
       "        vertical-align: middle;\n",
       "    }\n",
       "\n",
       "    .dataframe tbody tr th {\n",
       "        vertical-align: top;\n",
       "    }\n",
       "\n",
       "    .dataframe thead th {\n",
       "        text-align: right;\n",
       "    }\n",
       "</style>\n",
       "<table border=\"1\" class=\"dataframe\">\n",
       "  <thead>\n",
       "    <tr style=\"text-align: right;\">\n",
       "      <th></th>\n",
       "      <th>Unnamed: 0</th>\n",
       "      <th>entity</th>\n",
       "      <th>iso_code</th>\n",
       "      <th>date</th>\n",
       "      <th>source_url</th>\n",
       "      <th>source_label</th>\n",
       "      <th>notes</th>\n",
       "      <th>daily_change_in_cumulative_total</th>\n",
       "      <th>cumulative_total</th>\n",
       "      <th>cumulative_total_per_thousand</th>\n",
       "      <th>daily_change_in_cumulative_total_per_thousand</th>\n",
       "      <th>7_day_smoothed_daily_change</th>\n",
       "      <th>7_day_smoothed_daily_change_per_thousand</th>\n",
       "      <th>year</th>\n",
       "      <th>month</th>\n",
       "      <th>week</th>\n",
       "      <th>day_of_week</th>\n",
       "    </tr>\n",
       "  </thead>\n",
       "  <tbody>\n",
       "    <tr>\n",
       "      <th>0</th>\n",
       "      <td>0</td>\n",
       "      <td>Argentina - people tested</td>\n",
       "      <td>ARG</td>\n",
       "      <td>2020-02-11</td>\n",
       "      <td>https://datos.gob.ar/dataset/salud-covid-19-ca...</td>\n",
       "      <td>Government of Argentina</td>\n",
       "      <td>NaN</td>\n",
       "      <td>2.0</td>\n",
       "      <td>2.0</td>\n",
       "      <td>0.0</td>\n",
       "      <td>0.0</td>\n",
       "      <td>NaN</td>\n",
       "      <td>NaN</td>\n",
       "      <td>2020</td>\n",
       "      <td>2</td>\n",
       "      <td>7</td>\n",
       "      <td>Tuesday</td>\n",
       "    </tr>\n",
       "    <tr>\n",
       "      <th>9</th>\n",
       "      <td>9</td>\n",
       "      <td>Argentina - people tested</td>\n",
       "      <td>ARG</td>\n",
       "      <td>2020-02-20</td>\n",
       "      <td>https://datos.gob.ar/dataset/salud-covid-19-ca...</td>\n",
       "      <td>Government of Argentina</td>\n",
       "      <td>NaN</td>\n",
       "      <td>2.0</td>\n",
       "      <td>4.0</td>\n",
       "      <td>0.0</td>\n",
       "      <td>0.0</td>\n",
       "      <td>0.0</td>\n",
       "      <td>0.0</td>\n",
       "      <td>2020</td>\n",
       "      <td>2</td>\n",
       "      <td>8</td>\n",
       "      <td>Thursday</td>\n",
       "    </tr>\n",
       "    <tr>\n",
       "      <th>14</th>\n",
       "      <td>14</td>\n",
       "      <td>Argentina - people tested</td>\n",
       "      <td>ARG</td>\n",
       "      <td>2020-02-25</td>\n",
       "      <td>https://datos.gob.ar/dataset/salud-covid-19-ca...</td>\n",
       "      <td>Government of Argentina</td>\n",
       "      <td>NaN</td>\n",
       "      <td>1.0</td>\n",
       "      <td>5.0</td>\n",
       "      <td>0.0</td>\n",
       "      <td>0.0</td>\n",
       "      <td>0.0</td>\n",
       "      <td>0.0</td>\n",
       "      <td>2020</td>\n",
       "      <td>2</td>\n",
       "      <td>9</td>\n",
       "      <td>Tuesday</td>\n",
       "    </tr>\n",
       "    <tr>\n",
       "      <th>16</th>\n",
       "      <td>16</td>\n",
       "      <td>Argentina - people tested</td>\n",
       "      <td>ARG</td>\n",
       "      <td>2020-02-27</td>\n",
       "      <td>https://datos.gob.ar/dataset/salud-covid-19-ca...</td>\n",
       "      <td>Government of Argentina</td>\n",
       "      <td>NaN</td>\n",
       "      <td>5.0</td>\n",
       "      <td>10.0</td>\n",
       "      <td>0.0</td>\n",
       "      <td>0.0</td>\n",
       "      <td>1.0</td>\n",
       "      <td>0.0</td>\n",
       "      <td>2020</td>\n",
       "      <td>2</td>\n",
       "      <td>9</td>\n",
       "      <td>Thursday</td>\n",
       "    </tr>\n",
       "    <tr>\n",
       "      <th>17</th>\n",
       "      <td>17</td>\n",
       "      <td>Argentina - people tested</td>\n",
       "      <td>ARG</td>\n",
       "      <td>2020-02-28</td>\n",
       "      <td>https://datos.gob.ar/dataset/salud-covid-19-ca...</td>\n",
       "      <td>Government of Argentina</td>\n",
       "      <td>NaN</td>\n",
       "      <td>9.0</td>\n",
       "      <td>19.0</td>\n",
       "      <td>0.0</td>\n",
       "      <td>0.0</td>\n",
       "      <td>2.0</td>\n",
       "      <td>0.0</td>\n",
       "      <td>2020</td>\n",
       "      <td>2</td>\n",
       "      <td>9</td>\n",
       "      <td>Friday</td>\n",
       "    </tr>\n",
       "  </tbody>\n",
       "</table>\n",
       "</div>"
      ],
      "text/plain": [
       "    Unnamed: 0                     entity iso_code       date  \\\n",
       "0            0  Argentina - people tested      ARG 2020-02-11   \n",
       "9            9  Argentina - people tested      ARG 2020-02-20   \n",
       "14          14  Argentina - people tested      ARG 2020-02-25   \n",
       "16          16  Argentina - people tested      ARG 2020-02-27   \n",
       "17          17  Argentina - people tested      ARG 2020-02-28   \n",
       "\n",
       "                                           source_url  \\\n",
       "0   https://datos.gob.ar/dataset/salud-covid-19-ca...   \n",
       "9   https://datos.gob.ar/dataset/salud-covid-19-ca...   \n",
       "14  https://datos.gob.ar/dataset/salud-covid-19-ca...   \n",
       "16  https://datos.gob.ar/dataset/salud-covid-19-ca...   \n",
       "17  https://datos.gob.ar/dataset/salud-covid-19-ca...   \n",
       "\n",
       "               source_label notes  daily_change_in_cumulative_total  \\\n",
       "0   Government of Argentina   NaN                               2.0   \n",
       "9   Government of Argentina   NaN                               2.0   \n",
       "14  Government of Argentina   NaN                               1.0   \n",
       "16  Government of Argentina   NaN                               5.0   \n",
       "17  Government of Argentina   NaN                               9.0   \n",
       "\n",
       "    cumulative_total  cumulative_total_per_thousand  \\\n",
       "0                2.0                            0.0   \n",
       "9                4.0                            0.0   \n",
       "14               5.0                            0.0   \n",
       "16              10.0                            0.0   \n",
       "17              19.0                            0.0   \n",
       "\n",
       "    daily_change_in_cumulative_total_per_thousand  \\\n",
       "0                                             0.0   \n",
       "9                                             0.0   \n",
       "14                                            0.0   \n",
       "16                                            0.0   \n",
       "17                                            0.0   \n",
       "\n",
       "    7_day_smoothed_daily_change  7_day_smoothed_daily_change_per_thousand  \\\n",
       "0                           NaN                                       NaN   \n",
       "9                           0.0                                       0.0   \n",
       "14                          0.0                                       0.0   \n",
       "16                          1.0                                       0.0   \n",
       "17                          2.0                                       0.0   \n",
       "\n",
       "    year  month  week day_of_week  \n",
       "0   2020      2     7     Tuesday  \n",
       "9   2020      2     8    Thursday  \n",
       "14  2020      2     9     Tuesday  \n",
       "16  2020      2     9    Thursday  \n",
       "17  2020      2     9      Friday  "
      ]
     },
     "execution_count": 10,
     "metadata": {},
     "output_type": "execute_result"
    }
   ],
   "source": [
    "# Remove rows with completely missing test numbers\n",
    "df_cleaned = df.dropna(subset=['cumulative_total', 'daily_change_in_cumulative_total'])\n",
    "df_cleaned.head()"
   ]
  },
  {
   "cell_type": "code",
   "execution_count": 12,
   "id": "dedd2010",
   "metadata": {},
   "outputs": [
    {
     "name": "stderr",
     "output_type": "stream",
     "text": [
      "<>:1: SyntaxWarning: invalid escape sequence '\\c'\n",
      "<>:1: SyntaxWarning: invalid escape sequence '\\c'\n",
      "C:\\Users\\Hp\\AppData\\Local\\Temp\\ipykernel_25516\\951934512.py:1: SyntaxWarning: invalid escape sequence '\\c'\n",
      "  export_path = \"D:\\covid_testing_cleaned.csv\"\n"
     ]
    }
   ],
   "source": [
    "export_path = \"D:\\covid_testing_cleaned.csv\"\n",
    "df_cleaned.to_csv(export_path, index=False)\n",
    "\n",
    "export_path\n",
    "df = pd.read_csv(export_path)"
   ]
  },
  {
   "cell_type": "code",
   "execution_count": 14,
   "id": "ec284e90",
   "metadata": {},
   "outputs": [],
   "source": [
    "# Top 10 countries by total tests\n",
    "df['country'] = df['entity'].str.extract(r'^(.*?)(?:\\s-\\s.*)?$')\n",
    "latest_totals = df.sort_values(\"date\").groupby(\"country\").tail(1)\n",
    "top10_total_tests = latest_totals.sort_values(\"cumulative_total\", ascending=False).head(10)\n"
   ]
  },
  {
   "cell_type": "code",
   "execution_count": 17,
   "id": "abba154e",
   "metadata": {},
   "outputs": [
    {
     "data": {
      "image/png": "[encoded data removed]",
      "text/plain": [
       "<Figure size 1200x600 with 1 Axes>"
      ]
     },
     "metadata": {},
     "output_type": "display_data"
    }
   ],
   "source": [
    "plt.figure(figsize=(12, 6))\n",
    "sns.barplot(data=top10_total_tests, x='country', y='cumulative_total', palette='viridis')\n",
    "plt.title(\"Top 10 Countries by Total COVID Tests\")\n",
    "plt.ylabel(\"Cumulative Total Tests\")\n",
    "plt.xticks(rotation=45)\n",
    "plt.tight_layout()\n",
    "plt.show()"
   ]
  },
  {
   "cell_type": "code",
   "execution_count": 18,
   "id": "04e5e49d",
   "metadata": {},
   "outputs": [],
   "source": [
    "# Countries with steepest weekly increase (maximum week-on-week jump in testing)\n",
    "weekly_data = df.groupby(['country', 'year', 'week'])['daily_change_in_cumulative_total'].sum().reset_index()\n",
    "weekly_data['weekly_total'] = weekly_data.groupby('country')['daily_change_in_cumulative_total'].transform('sum')\n"
   ]
  },
  {
   "cell_type": "code",
   "execution_count": 19,
   "id": "6f59d229",
   "metadata": {},
   "outputs": [],
   "source": [
    "# Calculate weekly difference\n",
    "weekly_data['weekly_diff'] = weekly_data.groupby('country')['daily_change_in_cumulative_total'].diff()\n"
   ]
  },
  {
   "cell_type": "code",
   "execution_count": 20,
   "id": "071bca1f",
   "metadata": {},
   "outputs": [],
   "source": [
    "# Get top countries with maximum week-on-week increase\n",
    "steepest_weekly = weekly_data.sort_values('weekly_diff', ascending=False).dropna().head(10)\n"
   ]
  },
  {
   "cell_type": "code",
   "execution_count": null,
   "id": "d2b1c589",
   "metadata": {},
   "outputs": [
    {
     "data": {
      "image/png": "[encoded data removed]",
      "text/plain": [
       "<Figure size 1200x600 with 1 Axes>"
      ]
     },
     "metadata": {},
     "output_type": "display_data"
    }
   ],
   "source": [
    "##Countries with steepest weekly increase\n",
    "plt.figure(figsize=(12, 6))\n",
    "sns.barplot(data=steepest_weekly, x='country', y='weekly_diff', palette='rocket')\n",
    "plt.title(\"Countries with Steepest Weekly Increase in Testing\")\n",
    "plt.ylabel(\"Max Weekly Increase in Tests\")\n",
    "plt.xticks(rotation=45)\n",
    "plt.tight_layout()\n",
    "plt.show()"
   ]
  },
  {
   "cell_type": "code",
   "execution_count": 22,
   "id": "c913e7ab",
   "metadata": {},
   "outputs": [],
   "source": [
    "# Monthly trend per region (Note: region data is missing; grouping by country for now)\n",
    "monthly_trend = df.groupby(['country', 'year', 'month'])['daily_change_in_cumulative_total'].sum().reset_index()\n"
   ]
  },
  {
   "cell_type": "code",
   "execution_count": 23,
   "id": "4470488d",
   "metadata": {},
   "outputs": [],
   "source": [
    "top5_countries = top10_total_tests['country'].head(5).tolist()\n",
    "top5_monthly = monthly_trend[monthly_trend['country'].isin(top5_countries)]"
   ]
  },
  {
   "cell_type": "code",
   "execution_count": 24,
   "id": "3584c702",
   "metadata": {},
   "outputs": [
    {
     "data": {
      "image/png": "[encoded data removed]",
      "text/plain": [
       "<Figure size 1400x600 with 1 Axes>"
      ]
     },
     "metadata": {},
     "output_type": "display_data"
    }
   ],
   "source": [
    "# Plot trend for top 5 countries by test count\n",
    "plt.figure(figsize=(14, 6))\n",
    "sns.lineplot(data=top5_monthly, x='month', y='daily_change_in_cumulative_total', hue='country', palette='tab10', marker='o')\n",
    "plt.title(\"Monthly Testing Trend for Top 5 Countries\")\n",
    "plt.ylabel(\"Monthly Total Tests\")\n",
    "plt.xlabel(\"Month\")\n",
    "plt.xticks(range(1, 13))\n",
    "plt.tight_layout()\n",
    "plt.show()"
   ]
  },
  {
   "cell_type": "code",
   "execution_count": null,
   "id": "74199d17",
   "metadata": {},
   "outputs": [],
   "source": [
    "# Weekly smoothed trend of top 5 countries (7-day smoothed)\n",
    "smoothed_df = df[df['country'].isin(top5_countries)]\n",
    "weekly_smoothed = smoothed_df.groupby(['country', 'year', 'week'])['7_day_smoothed_daily_change'].mean().reset_index()"
   ]
  },
  {
   "cell_type": "code",
   "execution_count": 26,
   "id": "377c1d2b",
   "metadata": {},
   "outputs": [
    {
     "data": {
      "application/vnd.plotly.v1+json": {
       "config": {
        "plotlyServerURL": "https://plot.ly"
       },
       "data": [
        {
         "hovertemplate": "country=India<br>week=%{x}<br>7_day_smoothed_daily_change=%{y}<extra></extra>",
         "legendgroup": "India",
         "line": {
          "color": "#636efa",
          "dash": "solid"
         },
         "marker": {
          "symbol": "circle"
         },
         "mode": "lines+markers",
         "name": "India",
         "orientation": "v",
         "showlegend": true,
         "type": "scatter",
         "x": {
          "bdata": "DA0ODxAREhMUFRYXGBkaGxwdHh8=",
          "dtype": "i1"
         },
         "xaxis": "x",
         "y": {
          "bdata": "q6qqqqpMkUCrqqqqqjyXQFVVVVVVErtAAAAAAABJx0C3bdu2DdbVQAAAAACgfN1AJUmSJEnF5kBu27Ztu+jxQJIkSZK0l/RAbtu2bYtm90Dbtm3bljn6QG7btm2riv5Abtu2bUvcAEFu27Zt82UCQdu2bdtWugZBAAAAAGgxCkHbtm3bxmMNQUmSJEmGexFB27Zt2wp9FEGrqqqqxmAZQQ==",
          "dtype": "f8"
         },
         "yaxis": "y"
        },
        {
         "hovertemplate": "country=Russia<br>week=%{x}<br>7_day_smoothed_daily_change=%{y}<extra></extra>",
         "legendgroup": "Russia",
         "line": {
          "color": "#EF553B",
          "dash": "solid"
         },
         "marker": {
          "symbol": "circle"
         },
         "mode": "lines+markers",
         "name": "Russia",
         "orientation": "v",
         "showlegend": true,
         "type": "scatter",
         "x": {
          "bdata": "CgsMDQ4PEBESExQVFhcYGRobHB0eHw==",
          "dtype": "i1"
         },
         "xaxis": "x",
         "y": {
          "bdata": "AAAAAAAA+H8AAAAAALy2QG7btm3bJ79At23btu3iyUDNzMzMLP3qQLdt27ZdIfJAkiRJkmRX9kAAAAAAkC79QEmSJEmqCwRB27Zt217dBkFu27Zt87QIQbdt27Ztcw1Bbtu2bXN6EEFJkiRJstkRQbdt27b9tBJBt23btqV4EkElSZIk0S0SQQAAAACs2BFBAAAAAGwEEUHbtm3b+iMRQQAAAACc1xBBAAAAADZSEEE=",
          "dtype": "f8"
         },
         "yaxis": "y"
        },
        {
         "hovertemplate": "country=United Arab Emirates<br>week=%{x}<br>7_day_smoothed_daily_change=%{y}<extra></extra>",
         "legendgroup": "United Arab Emirates",
         "line": {
          "color": "#00cc96",
          "dash": "solid"
         },
         "marker": {
          "symbol": "circle"
         },
         "mode": "lines+markers",
         "name": "United Arab Emirates",
         "orientation": "v",
         "showlegend": true,
         "type": "scatter",
         "x": {
          "bdata": "BQYHCAkKCwwNDg8QERITFBUWFxgZGhscHR4f",
          "dtype": "i1"
         },
         "xaxis": "x",
         "y": {
          "bdata": "AAAAAAAA+H8AAAAAALBlQKuqqqqqinVAq6qqqqoyjEAAAAAAAIaWQAAAAAAAI6lAmpmZmZnSskCrqqqqqqy2QFVVVVVV1b9AAAAAAADczUBJkiRJskzkQLdt27ZtCt5AJUmSJEnT10C3bdu2bYvZQNu2bds27dxASZIkSXL54EAAAAAAgPzjQEmSJEmyluFAbtu2bftP5EAlSZIkqa/kQNu2bdu2DONASZIkSdJ65kDbtm3bVhDrQNu2bdv2rOdAJUmSJKm05kDbtm3b1tblQKuqqqpq1edA",
          "dtype": "f8"
         },
         "yaxis": "y"
        },
        {
         "hovertemplate": "country=United Kingdom<br>week=%{x}<br>7_day_smoothed_daily_change=%{y}<extra></extra>",
         "legendgroup": "United Kingdom",
         "line": {
          "color": "#ab63fa",
          "dash": "solid"
         },
         "marker": {
          "symbol": "circle"
         },
         "mode": "lines+markers",
         "name": "United Kingdom",
         "orientation": "v",
         "showlegend": true,
         "type": "scatter",
         "x": {
          "bdata": "Dg8QERITFBUWFxgZGhscHR4f",
          "dtype": "i1"
         },
         "xaxis": "x",
         "y": {
          "bdata": "AAAAAAAA+H8AAAAAQNDQQAAAAACA8dBAt23btm0P2EDbtm3bVr/lQJIkSZIEbPFA27Zt22aC8kBJkiRJUiHzQAAAAAAgmvRAt23btk2n9EBu27Ztuw/3QAAAAADASfRAkiRJkvTI80Dbtm3bhpX2QAAAAADApvhAAAAAAPBY/EAlSZIkOSb+QAAAAACo2/1A",
          "dtype": "f8"
         },
         "yaxis": "y"
        },
        {
         "hovertemplate": "country=United States<br>week=%{x}<br>7_day_smoothed_daily_change=%{y}<extra></extra>",
         "legendgroup": "United States",
         "line": {
          "color": "#FFA15A",
          "dash": "solid"
         },
         "marker": {
          "symbol": "circle"
         },
         "mode": "lines+markers",
         "name": "United States",
         "orientation": "v",
         "showlegend": true,
         "type": "scatter",
         "x": {
          "bdata": "CgsMDQ4PEBESExQVFhcYGRobHB0eHw==",
          "dtype": "i1"
         },
         "xaxis": "x",
         "y": {
          "bdata": "AAAAAAAA+H8AAAAAgIexQCVJkiQJ1dBAkiRJkqR57kAlSZIkiXb7QAAAAAAIYwJB27Zt23YAAkHbtm3bZmkGQSVJkiQhHwxBkiRJkox9D0FJkiRJHoITQY7jOI4nfhdBjuM4jqvrF0HRRRddQFEcQXTRRRcJphpBjC666KY2HUHpoosufKMiQXIcx3FyyCJBjC666C54I0HHcRzHHxkoQc3MzMxFVSlBq6qqqlbtKEE=",
          "dtype": "f8"
         },
         "yaxis": "y"
        }
       ],
       "layout": {
        "legend": {
         "title": {
          "text": "country"
         },
         "tracegroupgap": 0
        },
        "template": {
         "data": {
          "bar": [
           {
            "error_x": {
             "color": "#2a3f5f"
            },
            "error_y": {
             "color": "#2a3f5f"
            },
            "marker": {
             "line": {
              "color": "#E5ECF6",
              "width": 0.5
             },
             "pattern": {
              "fillmode": "overlay",
              "size": 10,
              "solidity": 0.2
             }
            },
            "type": "bar"
           }
          ],
          "barpolar": [
           {
            "marker": {
             "line": {
              "color": "#E5ECF6",
              "width": 0.5
             },
             "pattern": {
              "fillmode": "overlay",
              "size": 10,
              "solidity": 0.2
             }
            },
            "type": "barpolar"
           }
          ],
          "carpet": [
           {
            "aaxis": {
             "endlinecolor": "#2a3f5f",
             "gridcolor": "white",
             "linecolor": "white",
             "minorgridcolor": "white",
             "startlinecolor": "#2a3f5f"
            },
            "baxis": {
             "endlinecolor": "#2a3f5f",
             "gridcolor": "white",
             "linecolor": "white",
             "minorgridcolor": "white",
             "startlinecolor": "#2a3f5f"
            },
            "type": "carpet"
           }
          ],
          "choropleth": [
           {
            "colorbar": {
             "outlinewidth": 0,
             "ticks": ""
            },
            "type": "choropleth"
           }
          ],
          "contour": [
           {
            "colorbar": {
             "outlinewidth": 0,
             "ticks": ""
            },
            "colorscale": [
             [
              0,
              "#0d0887"
             ],
             [
              0.1111111111111111,
              "#46039f"
             ],
             [
              0.2222222222222222,
              "#7201a8"
             ],
             [
              0.3333333333333333,
              "#9c179e"
             ],
             [
              0.4444444444444444,
              "#bd3786"
             ],
             [
              0.5555555555555556,
              "#d8576b"
             ],
             [
              0.6666666666666666,
              "#ed7953"
             ],
             [
              0.7777777777777778,
              "#fb9f3a"
             ],
             [
              0.8888888888888888,
              "#fdca26"
             ],
             [
              1,
              "#f0f921"
             ]
            ],
            "type": "contour"
           }
          ],
          "contourcarpet": [
           {
            "colorbar": {
             "outlinewidth": 0,
             "ticks": ""
            },
            "type": "contourcarpet"
           }
          ],
          "heatmap": [
           {
            "colorbar": {
             "outlinewidth": 0,
             "ticks": ""
            },
            "colorscale": [
             [
              0,
              "#0d0887"
             ],
             [
              0.1111111111111111,
              "#46039f"
             ],
             [
              0.2222222222222222,
              "#7201a8"
             ],
             [
              0.3333333333333333,
              "#9c179e"
             ],
             [
              0.4444444444444444,
              "#bd3786"
             ],
             [
              0.5555555555555556,
              "#d8576b"
             ],
             [
              0.6666666666666666,
              "#ed7953"
             ],
             [
              0.7777777777777778,
              "#fb9f3a"
             ],
             [
              0.8888888888888888,
              "#fdca26"
             ],
             [
              1,
              "#f0f921"
             ]
            ],
            "type": "heatmap"
           }
          ],
          "histogram": [
           {
            "marker": {
             "pattern": {
              "fillmode": "overlay",
              "size": 10,
              "solidity": 0.2
             }
            },
            "type": "histogram"
           }
          ],
          "histogram2d": [
           {
            "colorbar": {
             "outlinewidth": 0,
             "ticks": ""
            },
            "colorscale": [
             [
              0,
              "#0d0887"
             ],
             [
              0.1111111111111111,
              "#46039f"
             ],
             [
              0.2222222222222222,
              "#7201a8"
             ],
             [
              0.3333333333333333,
              "#9c179e"
             ],
             [
              0.4444444444444444,
              "#bd3786"
             ],
             [
              0.5555555555555556,
              "#d8576b"
             ],
             [
              0.6666666666666666,
              "#ed7953"
             ],
             [
              0.7777777777777778,
              "#fb9f3a"
             ],
             [
              0.8888888888888888,
              "#fdca26"
             ],
             [
              1,
              "#f0f921"
             ]
            ],
            "type": "histogram2d"
           }
          ],
          "histogram2dcontour": [
           {
            "colorbar": {
             "outlinewidth": 0,
             "ticks": ""
            },
            "colorscale": [
             [
              0,
              "#0d0887"
             ],
             [
              0.1111111111111111,
              "#46039f"
             ],
             [
              0.2222222222222222,
              "#7201a8"
             ],
             [
              0.3333333333333333,
              "#9c179e"
             ],
             [
              0.4444444444444444,
              "#bd3786"
             ],
             [
              0.5555555555555556,
              "#d8576b"
             ],
             [
              0.6666666666666666,
              "#ed7953"
             ],
             [
              0.7777777777777778,
              "#fb9f3a"
             ],
             [
              0.8888888888888888,
              "#fdca26"
             ],
             [
              1,
              "#f0f921"
             ]
            ],
            "type": "histogram2dcontour"
           }
          ],
          "mesh3d": [
           {
            "colorbar": {
             "outlinewidth": 0,
             "ticks": ""
            },
            "type": "mesh3d"
           }
          ],
          "parcoords": [
           {
            "line": {
             "colorbar": {
              "outlinewidth": 0,
              "ticks": ""
             }
            },
            "type": "parcoords"
           }
          ],
          "pie": [
           {
            "automargin": true,
            "type": "pie"
           }
          ],
          "scatter": [
           {
            "fillpattern": {
             "fillmode": "overlay",
             "size": 10,
             "solidity": 0.2
            },
            "type": "scatter"
           }
          ],
          "scatter3d": [
           {
            "line": {
             "colorbar": {
              "outlinewidth": 0,
              "ticks": ""
             }
            },
            "marker": {
             "colorbar": {
              "outlinewidth": 0,
              "ticks": ""
             }
            },
            "type": "scatter3d"
           }
          ],
          "scattercarpet": [
           {
            "marker": {
             "colorbar": {
              "outlinewidth": 0,
              "ticks": ""
             }
            },
            "type": "scattercarpet"
           }
          ],
          "scattergeo": [
           {
            "marker": {
             "colorbar": {
              "outlinewidth": 0,
              "ticks": ""
             }
            },
            "type": "scattergeo"
           }
          ],
          "scattergl": [
           {
            "marker": {
             "colorbar": {
              "outlinewidth": 0,
              "ticks": ""
             }
            },
            "type": "scattergl"
           }
          ],
          "scattermap": [
           {
            "marker": {
             "colorbar": {
              "outlinewidth": 0,
              "ticks": ""
             }
            },
            "type": "scattermap"
           }
          ],
          "scattermapbox": [
           {
            "marker": {
             "colorbar": {
              "outlinewidth": 0,
              "ticks": ""
             }
            },
            "type": "scattermapbox"
           }
          ],
          "scatterpolar": [
           {
            "marker": {
             "colorbar": {
              "outlinewidth": 0,
              "ticks": ""
             }
            },
            "type": "scatterpolar"
           }
          ],
          "scatterpolargl": [
           {
            "marker": {
             "colorbar": {
              "outlinewidth": 0,
              "ticks": ""
             }
            },
            "type": "scatterpolargl"
           }
          ],
          "scatterternary": [
           {
            "marker": {
             "colorbar": {
              "outlinewidth": 0,
              "ticks": ""
             }
            },
            "type": "scatterternary"
           }
          ],
          "surface": [
           {
            "colorbar": {
             "outlinewidth": 0,
             "ticks": ""
            },
            "colorscale": [
             [
              0,
              "#0d0887"
             ],
             [
              0.1111111111111111,
              "#46039f"
             ],
             [
              0.2222222222222222,
              "#7201a8"
             ],
             [
              0.3333333333333333,
              "#9c179e"
             ],
             [
              0.4444444444444444,
              "#bd3786"
             ],
             [
              0.5555555555555556,
              "#d8576b"
             ],
             [
              0.6666666666666666,
              "#ed7953"
             ],
             [
              0.7777777777777778,
              "#fb9f3a"
             ],
             [
              0.8888888888888888,
              "#fdca26"
             ],
             [
              1,
              "#f0f921"
             ]
            ],
            "type": "surface"
           }
          ],
          "table": [
           {
            "cells": {
             "fill": {
              "color": "#EBF0F8"
             },
             "line": {
              "color": "white"
             }
            },
            "header": {
             "fill": {
              "color": "#C8D4E3"
             },
             "line": {
              "color": "white"
             }
            },
            "type": "table"
           }
          ]
         },
         "layout": {
          "annotationdefaults": {
           "arrowcolor": "#2a3f5f",
           "arrowhead": 0,
           "arrowwidth": 1
          },
          "autotypenumbers": "strict",
          "coloraxis": {
           "colorbar": {
            "outlinewidth": 0,
            "ticks": ""
           }
          },
          "colorscale": {
           "diverging": [
            [
             0,
             "#8e0152"
            ],
            [
             0.1,
             "#c51b7d"
            ],
            [
             0.2,
             "#de77ae"
            ],
            [
             0.3,
             "#f1b6da"
            ],
            [
             0.4,
             "#fde0ef"
            ],
            [
             0.5,
             "#f7f7f7"
            ],
            [
             0.6,
             "#e6f5d0"
            ],
            [
             0.7,
             "#b8e186"
            ],
            [
             0.8,
             "#7fbc41"
            ],
            [
             0.9,
             "#4d9221"
            ],
            [
             1,
             "#276419"
            ]
           ],
           "sequential": [
            [
             0,
             "#0d0887"
            ],
            [
             0.1111111111111111,
             "#46039f"
            ],
            [
             0.2222222222222222,
             "#7201a8"
            ],
            [
             0.3333333333333333,
             "#9c179e"
            ],
            [
             0.4444444444444444,
             "#bd3786"
            ],
            [
             0.5555555555555556,
             "#d8576b"
            ],
            [
             0.6666666666666666,
             "#ed7953"
            ],
            [
             0.7777777777777778,
             "#fb9f3a"
            ],
            [
             0.8888888888888888,
             "#fdca26"
            ],
            [
             1,
             "#f0f921"
            ]
           ],
           "sequentialminus": [
            [
             0,
             "#0d0887"
            ],
            [
             0.1111111111111111,
             "#46039f"
            ],
            [
             0.2222222222222222,
             "#7201a8"
            ],
            [
             0.3333333333333333,
             "#9c179e"
            ],
            [
             0.4444444444444444,
             "#bd3786"
            ],
            [
             0.5555555555555556,
             "#d8576b"
            ],
            [
             0.6666666666666666,
             "#ed7953"
            ],
            [
             0.7777777777777778,
             "#fb9f3a"
            ],
            [
             0.8888888888888888,
             "#fdca26"
            ],
            [
             1,
             "#f0f921"
            ]
           ]
          },
          "colorway": [
           "#636efa",
           "#EF553B",
           "#00cc96",
           "#ab63fa",
           "#FFA15A",
           "#19d3f3",
           "#FF6692",
           "#B6E880",
           "#FF97FF",
           "#FECB52"
          ],
          "font": {
           "color": "#2a3f5f"
          },
          "geo": {
           "bgcolor": "white",
           "lakecolor": "white",
           "landcolor": "#E5ECF6",
           "showlakes": true,
           "showland": true,
           "subunitcolor": "white"
          },
          "hoverlabel": {
           "align": "left"
          },
          "hovermode": "closest",
          "mapbox": {
           "style": "light"
          },
          "paper_bgcolor": "white",
          "plot_bgcolor": "#E5ECF6",
          "polar": {
           "angularaxis": {
            "gridcolor": "white",
            "linecolor": "white",
            "ticks": ""
           },
           "bgcolor": "#E5ECF6",
           "radialaxis": {
            "gridcolor": "white",
            "linecolor": "white",
            "ticks": ""
           }
          },
          "scene": {
           "xaxis": {
            "backgroundcolor": "#E5ECF6",
            "gridcolor": "white",
            "gridwidth": 2,
            "linecolor": "white",
            "showbackground": true,
            "ticks": "",
            "zerolinecolor": "white"
           },
           "yaxis": {
            "backgroundcolor": "#E5ECF6",
            "gridcolor": "white",
            "gridwidth": 2,
            "linecolor": "white",
            "showbackground": true,
            "ticks": "",
            "zerolinecolor": "white"
           },
           "zaxis": {
            "backgroundcolor": "#E5ECF6",
            "gridcolor": "white",
            "gridwidth": 2,
            "linecolor": "white",
            "showbackground": true,
            "ticks": "",
            "zerolinecolor": "white"
           }
          },
          "shapedefaults": {
           "line": {
            "color": "#2a3f5f"
           }
          },
          "ternary": {
           "aaxis": {
            "gridcolor": "white",
            "linecolor": "white",
            "ticks": ""
           },
           "baxis": {
            "gridcolor": "white",
            "linecolor": "white",
            "ticks": ""
           },
           "bgcolor": "#E5ECF6",
           "caxis": {
            "gridcolor": "white",
            "linecolor": "white",
            "ticks": ""
           }
          },
          "title": {
           "x": 0.05
          },
          "xaxis": {
           "automargin": true,
           "gridcolor": "white",
           "linecolor": "white",
           "ticks": "",
           "title": {
            "standoff": 15
           },
           "zerolinecolor": "white",
           "zerolinewidth": 2
          },
          "yaxis": {
           "automargin": true,
           "gridcolor": "white",
           "linecolor": "white",
           "ticks": "",
           "title": {
            "standoff": 15
           },
           "zerolinecolor": "white",
           "zerolinewidth": 2
          }
         }
        },
        "title": {
         "text": "Weekly Smoothed Trend of Top 5 Countries"
        },
        "xaxis": {
         "anchor": "y",
         "domain": [
          0,
          1
         ],
         "title": {
          "text": "Week"
         }
        },
        "yaxis": {
         "anchor": "x",
         "domain": [
          0,
          1
         ],
         "title": {
          "text": "7-Day Smoothed Daily Tests"
         }
        }
       }
      }
     },
     "metadata": {},
     "output_type": "display_data"
    }
   ],
   "source": [
    "# Plot with Plotly\n",
    "import plotly.express as px\n",
    "fig = px.line(\n",
    "    weekly_smoothed,\n",
    "    x='week',\n",
    "    y='7_day_smoothed_daily_change',\n",
    "    color='country',\n",
    "    title='Weekly Smoothed Trend of Top 5 Countries',\n",
    "    markers=True\n",
    ")\n",
    "fig.update_layout(xaxis_title=\"Week\", yaxis_title=\"7-Day Smoothed Daily Tests\")\n",
    "fig.show()"
   ]
  },
  {
   "cell_type": "code",
   "execution_count": 27,
   "id": "2368444b",
   "metadata": {},
   "outputs": [
    {
     "data": {
      "image/png": "[encoded data removed]",
      "text/plain": [
       "<Figure size 1400x600 with 1 Axes>"
      ]
     },
     "metadata": {},
     "output_type": "display_data"
    }
   ],
   "source": [
    "##weekly smoothed trend of top 5 countries using Matplotlib (static chart)\n",
    "\n",
    "plt.figure(figsize=(14, 6))\n",
    "for country in top5_countries:\n",
    "    country_data = weekly_smoothed[weekly_smoothed['country'] == country]\n",
    "    plt.plot(\n",
    "        country_data['week'],\n",
    "        country_data['7_day_smoothed_daily_change'],\n",
    "        marker='o',\n",
    "        label=country\n",
    "    )\n",
    "\n",
    "plt.title(\"Weekly Smoothed Trend of Top 5 Countries (Static)\")\n",
    "plt.xlabel(\"Week Number\")\n",
    "plt.ylabel(\"7-Day Smoothed Daily Tests\")\n",
    "plt.legend()\n",
    "plt.grid(True)\n",
    "plt.tight_layout()\n",
    "plt.show()"
   ]
  }
 ],
 "metadata": {
  "kernelspec": {
   "display_name": "Python 3",
   "language": "python",
   "name": "python3"
  },
  "language_info": {
   "codemirror_mode": {
    "name": "ipython",
    "version": 3
   },
   "file_extension": ".py",
   "mimetype": "text/x-python",
   "name": "python",
   "nbconvert_exporter": "python",
   "pygments_lexer": "ipython3",
   "version": "3.12.1"
  }
 },
 "nbformat": 4,
 "nbformat_minor": 5
}
